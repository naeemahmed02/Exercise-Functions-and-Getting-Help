{
 "cells": [
  {
   "cell_type": "markdown",
   "id": "64d3f041",
   "metadata": {
    "papermill": {
     "duration": 0.006154,
     "end_time": "2022-08-12T04:25:30.137287",
     "exception": false,
     "start_time": "2022-08-12T04:25:30.131133",
     "status": "completed"
    },
    "tags": []
   },
   "source": [
    "**This notebook is an exercise in the [Python](https://www.kaggle.com/learn/python) course.  You can reference the tutorial at [this link](https://www.kaggle.com/colinmorris/functions-and-getting-help).**\n",
    "\n",
    "---\n"
   ]
  },
  {
   "cell_type": "markdown",
   "id": "fec96bd0",
   "metadata": {
    "papermill": {
     "duration": 0.004465,
     "end_time": "2022-08-12T04:25:30.146788",
     "exception": false,
     "start_time": "2022-08-12T04:25:30.142323",
     "status": "completed"
    },
    "tags": []
   },
   "source": [
    "Functions are powerful. Try writing some yourself.\n",
    "\n",
    "As before, don't forget to run the setup code below before jumping into question 1."
   ]
  },
  {
   "cell_type": "code",
   "execution_count": 1,
   "id": "cb3df77a",
   "metadata": {
    "_kg_hide-input": true,
    "_kg_hide-output": true,
    "execution": {
     "iopub.execute_input": "2022-08-12T04:25:30.158352Z",
     "iopub.status.busy": "2022-08-12T04:25:30.157887Z",
     "iopub.status.idle": "2022-08-12T04:25:30.212418Z",
     "shell.execute_reply": "2022-08-12T04:25:30.211271Z"
    },
    "papermill": {
     "duration": 0.064234,
     "end_time": "2022-08-12T04:25:30.215795",
     "exception": false,
     "start_time": "2022-08-12T04:25:30.151561",
     "status": "completed"
    },
    "tags": []
   },
   "outputs": [
    {
     "name": "stdout",
     "output_type": "stream",
     "text": [
      "Setup complete.\n"
     ]
    }
   ],
   "source": [
    "# SETUP. You don't need to worry for now about what this code does or how it works.\n",
    "from learntools.core import binder; binder.bind(globals())\n",
    "from learntools.python.ex2 import *\n",
    "print('Setup complete.')"
   ]
  },
  {
   "cell_type": "markdown",
   "id": "b96917e9",
   "metadata": {
    "papermill": {
     "duration": 0.004697,
     "end_time": "2022-08-12T04:25:30.226098",
     "exception": false,
     "start_time": "2022-08-12T04:25:30.221401",
     "status": "completed"
    },
    "tags": []
   },
   "source": [
    "# 1.\n",
    "\n",
    "Complete the body of the following function according to its docstring.\n",
    "\n",
    "HINT: Python has a built-in function `round`."
   ]
  },
  {
   "cell_type": "code",
   "execution_count": 2,
   "id": "264e2e1d",
   "metadata": {
    "execution": {
     "iopub.execute_input": "2022-08-12T04:25:30.238469Z",
     "iopub.status.busy": "2022-08-12T04:25:30.238069Z",
     "iopub.status.idle": "2022-08-12T04:25:30.249631Z",
     "shell.execute_reply": "2022-08-12T04:25:30.248530Z"
    },
    "papermill": {
     "duration": 0.020221,
     "end_time": "2022-08-12T04:25:30.251863",
     "exception": false,
     "start_time": "2022-08-12T04:25:30.231642",
     "status": "completed"
    },
    "tags": []
   },
   "outputs": [
    {
     "data": {
      "application/javascript": [
       "parent.postMessage({\"jupyterEvent\": \"custom.exercise_interaction\", \"data\": {\"outcomeType\": 1, \"valueTowardsCompletion\": 0.16666666666666666, \"interactionType\": 1, \"questionType\": 2, \"questionId\": \"1_RoundFunctionProblem\", \"learnToolsVersion\": \"0.3.4\", \"failureMessage\": \"\", \"exceptionClass\": \"\", \"trace\": \"\"}}, \"*\")"
      ],
      "text/plain": [
       "<IPython.core.display.Javascript object>"
      ]
     },
     "metadata": {},
     "output_type": "display_data"
    },
    {
     "data": {
      "text/markdown": [
       "<span style=\"color:#33cc33\">Correct</span>"
      ],
      "text/plain": [
       "Correct"
      ]
     },
     "metadata": {},
     "output_type": "display_data"
    }
   ],
   "source": [
    "def round_to_two_places(num):\n",
    "    \"\"\"Return the given number rounded to two decimal places. \n",
    "    \n",
    "    >>> round_to_two_places(3.14159)\n",
    "    3.14\n",
    "    \"\"\"\n",
    "    # Replace this body with your own code.\n",
    "    # (\"pass\" is a keyword that does literally nothing. We used it as a placeholder\n",
    "    # because after we begin a code block, Python requires at least one line of code)\n",
    "    return round(num, 2)\n",
    "    \n",
    "    pass\n",
    "\n",
    "# Check your answer\n",
    "q1.check()"
   ]
  },
  {
   "cell_type": "code",
   "execution_count": 3,
   "id": "b4484abd",
   "metadata": {
    "execution": {
     "iopub.execute_input": "2022-08-12T04:25:30.263811Z",
     "iopub.status.busy": "2022-08-12T04:25:30.263451Z",
     "iopub.status.idle": "2022-08-12T04:25:30.267806Z",
     "shell.execute_reply": "2022-08-12T04:25:30.266736Z"
    },
    "papermill": {
     "duration": 0.01329,
     "end_time": "2022-08-12T04:25:30.270377",
     "exception": false,
     "start_time": "2022-08-12T04:25:30.257087",
     "status": "completed"
    },
    "tags": []
   },
   "outputs": [],
   "source": [
    "# Uncomment the following for a hint\n",
    "#q1.hint()\n",
    "# Or uncomment the following to peek at the solution\n",
    "#q1.solution()"
   ]
  },
  {
   "cell_type": "markdown",
   "id": "b9abf566",
   "metadata": {
    "papermill": {
     "duration": 0.004953,
     "end_time": "2022-08-12T04:25:30.280816",
     "exception": false,
     "start_time": "2022-08-12T04:25:30.275863",
     "status": "completed"
    },
    "tags": []
   },
   "source": [
    "# 2.\n",
    "The help for `round` says that `ndigits` (the second argument) may be negative.\n",
    "What do you think will happen when it is? Try some examples in the following cell."
   ]
  },
  {
   "cell_type": "code",
   "execution_count": 4,
   "id": "9082c817",
   "metadata": {
    "execution": {
     "iopub.execute_input": "2022-08-12T04:25:30.292827Z",
     "iopub.status.busy": "2022-08-12T04:25:30.292403Z",
     "iopub.status.idle": "2022-08-12T04:25:30.297669Z",
     "shell.execute_reply": "2022-08-12T04:25:30.296487Z"
    },
    "papermill": {
     "duration": 0.013787,
     "end_time": "2022-08-12T04:25:30.299704",
     "exception": false,
     "start_time": "2022-08-12T04:25:30.285917",
     "status": "completed"
    },
    "tags": []
   },
   "outputs": [],
   "source": [
    "# Put your test code here\n",
    "def negative_round_places(num1):\n",
    "    nagative_round_places(3.1453432)\n",
    "    return round(num1, -3)\n",
    "    \n",
    "    "
   ]
  },
  {
   "cell_type": "markdown",
   "id": "06a351f9",
   "metadata": {
    "papermill": {
     "duration": 0.004927,
     "end_time": "2022-08-12T04:25:30.310386",
     "exception": false,
     "start_time": "2022-08-12T04:25:30.305459",
     "status": "completed"
    },
    "tags": []
   },
   "source": [
    "Can you think of a case where this would be useful?  Once you're ready, run the code cell below to see the answer and to receive credit for completing the problem."
   ]
  },
  {
   "cell_type": "code",
   "execution_count": 5,
   "id": "28f4a8b6",
   "metadata": {
    "execution": {
     "iopub.execute_input": "2022-08-12T04:25:30.322510Z",
     "iopub.status.busy": "2022-08-12T04:25:30.322132Z",
     "iopub.status.idle": "2022-08-12T04:25:30.325858Z",
     "shell.execute_reply": "2022-08-12T04:25:30.325015Z"
    },
    "papermill": {
     "duration": 0.012199,
     "end_time": "2022-08-12T04:25:30.327738",
     "exception": false,
     "start_time": "2022-08-12T04:25:30.315539",
     "status": "completed"
    },
    "tags": []
   },
   "outputs": [],
   "source": [
    "# Check your answer (Run this code cell to receive credit!)\n",
    "#q2.solution()"
   ]
  },
  {
   "cell_type": "markdown",
   "id": "0b8d5b8a",
   "metadata": {
    "papermill": {
     "duration": 0.004787,
     "end_time": "2022-08-12T04:25:30.337555",
     "exception": false,
     "start_time": "2022-08-12T04:25:30.332768",
     "status": "completed"
    },
    "tags": []
   },
   "source": [
    "# 3.\n",
    "\n",
    "In the previous exercise, the candy-sharing friends Alice, Bob and Carol tried to split candies evenly. For the sake of their friendship, any candies left over would be smashed. For example, if they collectively bring home 91 candies, they'll take 30 each and smash 1.\n",
    "\n",
    "Below is a simple function that will calculate the number of candies to smash for *any* number of total candies.\n",
    "\n",
    "Modify it so that it optionally takes a second argument representing the number of friends the candies are being split between. If no second argument is provided, it should assume 3 friends, as before.\n",
    "\n",
    "Update the docstring to reflect this new behaviour."
   ]
  },
  {
   "cell_type": "code",
   "execution_count": 6,
   "id": "afbc17d2",
   "metadata": {
    "execution": {
     "iopub.execute_input": "2022-08-12T04:25:30.349702Z",
     "iopub.status.busy": "2022-08-12T04:25:30.348982Z",
     "iopub.status.idle": "2022-08-12T04:25:30.357009Z",
     "shell.execute_reply": "2022-08-12T04:25:30.356230Z"
    },
    "papermill": {
     "duration": 0.016618,
     "end_time": "2022-08-12T04:25:30.359156",
     "exception": false,
     "start_time": "2022-08-12T04:25:30.342538",
     "status": "completed"
    },
    "tags": []
   },
   "outputs": [
    {
     "data": {
      "application/javascript": [
       "parent.postMessage({\"jupyterEvent\": \"custom.exercise_interaction\", \"data\": {\"outcomeType\": 1, \"valueTowardsCompletion\": 0.16666666666666666, \"interactionType\": 1, \"questionType\": 2, \"questionId\": \"3_CandySmashingFunctionProblem\", \"learnToolsVersion\": \"0.3.4\", \"failureMessage\": \"\", \"exceptionClass\": \"\", \"trace\": \"\"}}, \"*\")"
      ],
      "text/plain": [
       "<IPython.core.display.Javascript object>"
      ]
     },
     "metadata": {},
     "output_type": "display_data"
    },
    {
     "data": {
      "text/markdown": [
       "<span style=\"color:#33cc33\">Correct</span>"
      ],
      "text/plain": [
       "Correct"
      ]
     },
     "metadata": {},
     "output_type": "display_data"
    }
   ],
   "source": [
    "def to_smash(total_candies,n_frnds=3):\n",
    "    \"\"\"Return the number of leftover candies that must be smashed after distributing\n",
    "    the given number of candies evenly between 3 friends.\n",
    "    \n",
    "    >>> to_smash(91)\n",
    "    1\n",
    "    \"\"\"\n",
    "    return total_candies % n_frnds\n",
    "\n",
    "# Check your answer\n",
    "q3.check()"
   ]
  },
  {
   "cell_type": "code",
   "execution_count": 7,
   "id": "5879cff8",
   "metadata": {
    "execution": {
     "iopub.execute_input": "2022-08-12T04:25:30.371824Z",
     "iopub.status.busy": "2022-08-12T04:25:30.371175Z",
     "iopub.status.idle": "2022-08-12T04:25:30.375147Z",
     "shell.execute_reply": "2022-08-12T04:25:30.374375Z"
    },
    "papermill": {
     "duration": 0.012508,
     "end_time": "2022-08-12T04:25:30.377278",
     "exception": false,
     "start_time": "2022-08-12T04:25:30.364770",
     "status": "completed"
    },
    "tags": []
   },
   "outputs": [],
   "source": [
    "#q3.hint()"
   ]
  },
  {
   "cell_type": "code",
   "execution_count": 8,
   "id": "9bef496e",
   "metadata": {
    "execution": {
     "iopub.execute_input": "2022-08-12T04:25:30.390148Z",
     "iopub.status.busy": "2022-08-12T04:25:30.389440Z",
     "iopub.status.idle": "2022-08-12T04:25:30.393534Z",
     "shell.execute_reply": "2022-08-12T04:25:30.392500Z"
    },
    "papermill": {
     "duration": 0.012899,
     "end_time": "2022-08-12T04:25:30.395654",
     "exception": false,
     "start_time": "2022-08-12T04:25:30.382755",
     "status": "completed"
    },
    "tags": []
   },
   "outputs": [],
   "source": [
    "#q3.solution()"
   ]
  },
  {
   "cell_type": "markdown",
   "id": "e5b9b7ed",
   "metadata": {
    "papermill": {
     "duration": 0.005231,
     "end_time": "2022-08-12T04:25:30.406179",
     "exception": false,
     "start_time": "2022-08-12T04:25:30.400948",
     "status": "completed"
    },
    "tags": []
   },
   "source": [
    "# 4. (Optional)\n",
    "\n",
    "It may not be fun, but reading and understanding error messages will be an important part of your Python career.\n",
    "\n",
    "Each code cell below contains some commented buggy code. For each cell...\n",
    "\n",
    "1. Read the code and predict what you think will happen when it's run.\n",
    "2. Then uncomment the code and run it to see what happens. (**Tip**: In the kernel editor, you can highlight several lines and press `ctrl`+`/` to toggle commenting.)\n",
    "3. Fix the code (so that it accomplishes its intended purpose without throwing an exception)\n",
    "\n",
    "<!-- TODO: should this be autochecked? Delta is probably pretty small. -->"
   ]
  },
  {
   "cell_type": "code",
   "execution_count": 9,
   "id": "2de74280",
   "metadata": {
    "execution": {
     "iopub.execute_input": "2022-08-12T04:25:30.418836Z",
     "iopub.status.busy": "2022-08-12T04:25:30.418158Z",
     "iopub.status.idle": "2022-08-12T04:25:30.421854Z",
     "shell.execute_reply": "2022-08-12T04:25:30.421151Z"
    },
    "papermill": {
     "duration": 0.0123,
     "end_time": "2022-08-12T04:25:30.423764",
     "exception": false,
     "start_time": "2022-08-12T04:25:30.411464",
     "status": "completed"
    },
    "tags": []
   },
   "outputs": [],
   "source": [
    "#ruound_to_two_places(9.9999)"
   ]
  },
  {
   "cell_type": "code",
   "execution_count": 10,
   "id": "5ed64aed",
   "metadata": {
    "execution": {
     "iopub.execute_input": "2022-08-12T04:25:30.435524Z",
     "iopub.status.busy": "2022-08-12T04:25:30.435150Z",
     "iopub.status.idle": "2022-08-12T04:25:30.438922Z",
     "shell.execute_reply": "2022-08-12T04:25:30.438208Z"
    },
    "papermill": {
     "duration": 0.012107,
     "end_time": "2022-08-12T04:25:30.441072",
     "exception": false,
     "start_time": "2022-08-12T04:25:30.428965",
     "status": "completed"
    },
    "tags": []
   },
   "outputs": [],
   "source": [
    "# x = -10\n",
    "# y = 5\n",
    "# # Which of the two variables above has the smallest absolute value?\n",
    "# smallest_abs = min(abs(x, y))"
   ]
  },
  {
   "cell_type": "code",
   "execution_count": 11,
   "id": "d3b4eb96",
   "metadata": {
    "execution": {
     "iopub.execute_input": "2022-08-12T04:25:30.453007Z",
     "iopub.status.busy": "2022-08-12T04:25:30.452370Z",
     "iopub.status.idle": "2022-08-12T04:25:30.455955Z",
     "shell.execute_reply": "2022-08-12T04:25:30.455242Z"
    },
    "papermill": {
     "duration": 0.011826,
     "end_time": "2022-08-12T04:25:30.457961",
     "exception": false,
     "start_time": "2022-08-12T04:25:30.446135",
     "status": "completed"
    },
    "tags": []
   },
   "outputs": [],
   "source": [
    "# def f(x):\n",
    "#     y = abs(x)\n",
    "# return y\n",
    "\n",
    "# print(f(5))"
   ]
  },
  {
   "cell_type": "markdown",
   "id": "7124b57c",
   "metadata": {
    "papermill": {
     "duration": 0.005039,
     "end_time": "2022-08-12T04:25:30.469588",
     "exception": false,
     "start_time": "2022-08-12T04:25:30.464549",
     "status": "completed"
    },
    "tags": []
   },
   "source": [
    "# Keep Going\n",
    "\n",
    "Nice job with the code. Next up, you'll learn about *conditionals*, which you'll need to **[write interesting programs](https://www.kaggle.com/colinmorris/booleans-and-conditionals)**. "
   ]
  },
  {
   "cell_type": "markdown",
   "id": "7a5ae79b",
   "metadata": {
    "papermill": {
     "duration": 0.004849,
     "end_time": "2022-08-12T04:25:30.479614",
     "exception": false,
     "start_time": "2022-08-12T04:25:30.474765",
     "status": "completed"
    },
    "tags": []
   },
   "source": [
    "---\n",
    "\n",
    "\n",
    "\n",
    "\n",
    "*Have questions or comments? Visit the [course discussion forum](https://www.kaggle.com/learn/python/discussion) to chat with other learners.*"
   ]
  }
 ],
 "metadata": {
  "kernelspec": {
   "display_name": "Python 3",
   "language": "python",
   "name": "python3"
  },
  "language_info": {
   "codemirror_mode": {
    "name": "ipython",
    "version": 3
   },
   "file_extension": ".py",
   "mimetype": "text/x-python",
   "name": "python",
   "nbconvert_exporter": "python",
   "pygments_lexer": "ipython3",
   "version": "3.7.12"
  },
  "papermill": {
   "default_parameters": {},
   "duration": 9.839464,
   "end_time": "2022-08-12T04:25:31.105540",
   "environment_variables": {},
   "exception": null,
   "input_path": "__notebook__.ipynb",
   "output_path": "__notebook__.ipynb",
   "parameters": {},
   "start_time": "2022-08-12T04:25:21.266076",
   "version": "2.3.4"
  }
 },
 "nbformat": 4,
 "nbformat_minor": 5
}
